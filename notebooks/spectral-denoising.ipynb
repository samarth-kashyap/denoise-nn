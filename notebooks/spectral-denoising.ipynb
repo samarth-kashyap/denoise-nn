{
 "cells": [
  {
   "cell_type": "code",
   "execution_count": 2,
   "metadata": {},
   "outputs": [],
   "source": [
    "%matplotlib inline\n",
    "%config InlineBackend.figure_format = 'retina'\n",
    "\n",
    "import matplotlib.pyplot as plt\n",
    "import seaborn as sns\n",
    "import numpy as np\n",
    "\n",
    "import torch.cuda\n",
    "import torch.nn as nn\n",
    "import torch.optim as optim\n",
    "from torch.autograd import Variable\n",
    "from torch.utils.data import random_split\n",
    "from torchvision import datasets, transforms\n",
    "\n",
    "import os"
   ]
  },
  {
   "cell_type": "code",
   "execution_count": 3,
   "metadata": {},
   "outputs": [],
   "source": [
    "Linear = nn.Linear\n",
    "ReLU = nn.ReLU\n",
    "MSELoss = nn.MSELoss\n",
    "L1Loss = nn.L1Loss\n",
    "Sequential = nn.Sequential\n",
    "Conv2d = nn.Conv2d\n",
    "ConvTranspose2d = nn.ConvTranspose2d\n",
    "MaxPool2d = nn.MaxPool2d\n",
    "AdaptiveAvgPool2d = nn.AdaptiveAvgPool2d\n",
    "Module = nn.Module\n",
    "BatchNorm2d = nn.BatchNorm2d\n",
    "Sigmoid = nn.Sigmoid\n",
    "Dropout = nn.Dropout"
   ]
  },
  {
   "cell_type": "code",
   "execution_count": null,
   "metadata": {},
   "outputs": [],
   "source": [
    "num_epochs = 200\n",
    "lin_loss_list = []\n",
    "\n",
    "criterion = nn.MSELoss()\n",
    "lin_optimizer = optim.SGD(lin_model.parameters(), lr=0.01, momentum=0.9)\n",
    "\n",
    "_, val_clean, val_noisy = util.lincomb_generate_data(batch_size, B, K, functions, noise_type=\"gaussian\")\n",
    "\n",
    "print(\"STARTED TRAINING\")\n",
    "\n",
    "for epoch in range(num_epochs):\n",
    "    # generate data returns the x-axis used for plotting as well as the clean and noisy data\n",
    "    _, t_clean, t_noisy = util.lincomb_generate_data(batch_size, B, K, functions, noise_type=\"gaussian\")\n",
    "\n",
    "    # ===================forward=====================\n",
    "    lin_output = lin_model(t_noisy.float())\n",
    "    lin_loss = criterion(lin_output.float(), t_clean.float())\n",
    "    lin_loss_list.append(lin_loss.data)\n",
    "\n",
    "    # ===================backward====================\n",
    "    lin_optimizer.zero_grad()\n",
    "    lin_loss.backward()\n",
    "    lin_optimizer.step()\n",
    "\n",
    "    val_lin_loss = F.mse_loss(lin_model(val_noisy.float()), val_clean.float())\n",
    "\n",
    "print(\"DONE TRAINING\")"
   ]
  }
 ],
 "metadata": {
  "kernelspec": {
   "display_name": "pytorch",
   "language": "python",
   "name": "pytorch2"
  },
  "language_info": {
   "codemirror_mode": {
    "name": "ipython",
    "version": 3
   },
   "file_extension": ".py",
   "mimetype": "text/x-python",
   "name": "python",
   "nbconvert_exporter": "python",
   "pygments_lexer": "ipython3",
   "version": "3.10.4"
  }
 },
 "nbformat": 4,
 "nbformat_minor": 4
}
