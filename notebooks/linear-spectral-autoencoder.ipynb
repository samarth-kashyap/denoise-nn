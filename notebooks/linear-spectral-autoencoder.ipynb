{
 "cells": [
  {
   "cell_type": "code",
   "execution_count": 1,
   "metadata": {},
   "outputs": [
    {
     "name": "stdout",
     "output_type": "stream",
     "text": [
      "Device cuda\n"
     ]
    }
   ],
   "source": [
    "import torch\n",
    "import numpy as np\n",
    "from torchvision import datasets\n",
    "import torchvision.transforms as transforms\n",
    "from torch.utils.data import Dataset\n",
    "\n",
    "# Setting device to CUDA if gpu is available, else setting device to CPU\n",
    "# GPU availability can be checked using torch.cuda.is_available() function call\n",
    "device = torch.device(\"cuda\") if torch.cuda.is_available() else torch.device(\"cpu\")\n",
    "print(\"Device\", device)\n",
    "\n",
    "transform = transforms.ToTensor() # convert data to torch.FloatTensor"
   ]
  },
  {
   "cell_type": "code",
   "execution_count": 2,
   "metadata": {},
   "outputs": [],
   "source": [
    "%matplotlib inline"
   ]
  },
  {
   "cell_type": "code",
   "execution_count": 3,
   "metadata": {},
   "outputs": [
    {
     "name": "stdout",
     "output_type": "stream",
     "text": [
      "/mnt/disk2/samarth/denoise-nn\n"
     ]
    }
   ],
   "source": [
    "cd ~/denoise-nn"
   ]
  },
  {
   "cell_type": "code",
   "execution_count": 4,
   "metadata": {},
   "outputs": [],
   "source": [
    "# Creating a custom npy loader\n",
    "def npy_loader(path):\n",
    "    sample = torch.from_numpy(np.load(path).astype('float32'))\n",
    "    return sample\n",
    "\n",
    "train_dataset_noisy = datasets.DatasetFolder(\n",
    "    root='train-set/noisy',\n",
    "    loader=npy_loader,\n",
    "    extensions=['.npy']\n",
    ")\n",
    "\n",
    "train_dataset_target = datasets.DatasetFolder(\n",
    "     root='train-set/target',\n",
    "     loader=npy_loader,\n",
    "     extensions=['.npy']\n",
    ")\n",
    "\n",
    "test_dataset_noisy = datasets.DatasetFolder(\n",
    "    root='test-set/noisy',\n",
    "    loader=npy_loader,\n",
    "    extensions=['.npy']\n",
    ")\n",
    "\n",
    "test_dataset_target = datasets.DatasetFolder(\n",
    "     root='test-set/target',\n",
    "     loader=npy_loader,\n",
    "     extensions=['.npy']\n",
    ")\n",
    "\n",
    "# Using a wrapper to create custom dataset\n",
    "class DenoisingDataset(Dataset):\n",
    "    def __init__(self, ds_noisy, ds_target):\n",
    "        self.ds_noisy = ds_noisy\n",
    "        self.ds_target = ds_target\n",
    "        \n",
    "    def __getitem__(self, index):\n",
    "        xA = self.ds_noisy[index]\n",
    "        xB = self.ds_target[index]\n",
    "        return xA, xB\n",
    "    \n",
    "    def __len__(self):\n",
    "        return len(self.ds_noisy)"
   ]
  },
  {
   "cell_type": "code",
   "execution_count": 5,
   "metadata": {},
   "outputs": [],
   "source": [
    "train_dataset = DenoisingDataset(train_dataset_noisy, train_dataset_target)\n",
    "test_dataset = DenoisingDataset(test_dataset_noisy, test_dataset_target)"
   ]
  },
  {
   "cell_type": "code",
   "execution_count": 6,
   "metadata": {},
   "outputs": [],
   "source": [
    "# Create training and test dataloaders\n",
    "num_workers = 0  # number of subprocesses to use for data loading\n",
    "batch_size = 30  # how many samples per batch to load\n",
    "\n",
    "# prepare data loaders\n",
    "train_loader = torch.utils.data.DataLoader(train_dataset, batch_size=batch_size, num_workers=num_workers, shuffle=True)\n",
    "test_loader = torch.utils.data.DataLoader(test_dataset, batch_size=batch_size, num_workers=num_workers, shuffle=True)"
   ]
  },
  {
   "cell_type": "code",
   "execution_count": 7,
   "metadata": {},
   "outputs": [
    {
     "name": "stdout",
     "output_type": "stream",
     "text": [
      "LinearAutoencoder(\n",
      "  (encoder1): Linear(in_features=500, out_features=250, bias=True)\n",
      "  (encoder2): Linear(in_features=250, out_features=125, bias=True)\n",
      "  (encoder3): Linear(in_features=125, out_features=64, bias=True)\n",
      "  (decoder1): Linear(in_features=64, out_features=125, bias=True)\n",
      "  (decoder2): Linear(in_features=125, out_features=250, bias=True)\n",
      "  (decoder3): Linear(in_features=250, out_features=500, bias=True)\n",
      ")\n"
     ]
    }
   ],
   "source": [
    "import torch.nn as nn\n",
    "import torch.nn.functional as F\n",
    "\n",
    "# define the NN architecture\n",
    "class LinearAutoencoder(nn.Module):\n",
    "    def __init__(self, encoding_dim):\n",
    "        super(LinearAutoencoder, self).__init__()\n",
    "        ## encoder ##\n",
    "        self.encoder1 = nn.Linear(500, 250)\n",
    "        self.encoder2 = nn.Linear(250, 125)\n",
    "        self.encoder3 = nn.Linear(125, encoding_dim)\n",
    "        ## decoder ##\n",
    "        self.decoder1 = nn.Linear(encoding_dim, 125)\n",
    "        self.decoder2 = nn.Linear(125, 250)\n",
    "        self.decoder3 = nn.Linear(250, 500)\n",
    "\n",
    "    def forward(self, x):\n",
    "        # define feedforward behavior \n",
    "        # and scale the *output* layer with a sigmoid activation function\n",
    "        \n",
    "        # pass x into encoder\n",
    "        out = F.relu(self.encoder1(x))\n",
    "        out = F.relu(self.encoder2(out))\n",
    "        out = F.relu(self.encoder3(out))\n",
    "        \n",
    "        # pass out into decoder\n",
    "        out = torch.sigmoid(self.decoder1(out))\n",
    "        out = torch.sigmoid(self.decoder2(out))\n",
    "        out = torch.sigmoid(self.decoder3(out))\n",
    "        return out\n",
    "\n",
    "# initialize the NN\n",
    "encoding_dim = 64\n",
    "model = LinearAutoencoder(encoding_dim)\n",
    "model = model.to(device)\n",
    "print(model)"
   ]
  },
  {
   "cell_type": "code",
   "execution_count": 8,
   "metadata": {},
   "outputs": [],
   "source": [
    "# define the NN architecture\n",
    "class ConvAutoencoder(nn.Module):\n",
    "    def __init__(self):\n",
    "        super(ConvAutoencoder, self).__init__()\n",
    "        #Encoder\n",
    "        self.conv1 = nn.Conv2d(3, 16, 3, padding=1)  \n",
    "        self.conv2 = nn.Conv2d(16, 4, 3, padding=1)\n",
    "        self.pool = nn.MaxPool2d(2, 2)\n",
    "       \n",
    "        #Decoder\n",
    "        self.t_conv1 = nn.ConvTranspose2d(4, 16, 2, stride=2)\n",
    "        self.t_conv2 = nn.ConvTranspose2d(16, 3, 2, stride=2)\n",
    "\n",
    "    def forward(self, x):\n",
    "        x = F.relu(self.conv1(x))\n",
    "        x = self.pool(x)\n",
    "        x = F.relu(self.conv2(x))\n",
    "        x = self.pool(x)\n",
    "        x = F.relu(self.t_conv1(x))\n",
    "        x = F.sigmoid(self.t_conv2(x))    \n",
    "        return x"
   ]
  },
  {
   "cell_type": "code",
   "execution_count": 9,
   "metadata": {},
   "outputs": [],
   "source": [
    "criterion = nn.MSELoss() # specify loss function\n",
    "optimizer = torch.optim.Adam(model.parameters(), lr=0.001) # specify optimizer function"
   ]
  },
  {
   "cell_type": "code",
   "execution_count": 10,
   "metadata": {},
   "outputs": [
    {
     "name": "stdout",
     "output_type": "stream",
     "text": [
      "Epoch: 1 \tTraining Loss: 0.039783\n",
      "Epoch: 2 \tTraining Loss: 0.003078\n",
      "Epoch: 3 \tTraining Loss: 0.001723\n",
      "Epoch: 4 \tTraining Loss: 0.001540\n",
      "Epoch: 5 \tTraining Loss: 0.001429\n",
      "Epoch: 6 \tTraining Loss: 0.001372\n",
      "Epoch: 7 \tTraining Loss: 0.001323\n",
      "Epoch: 8 \tTraining Loss: 0.001286\n",
      "Epoch: 9 \tTraining Loss: 0.001257\n",
      "Epoch: 10 \tTraining Loss: 0.001229\n",
      "Epoch: 11 \tTraining Loss: 0.001205\n",
      "Epoch: 12 \tTraining Loss: 0.001179\n",
      "Epoch: 13 \tTraining Loss: 0.001168\n",
      "Epoch: 14 \tTraining Loss: 0.001151\n",
      "Epoch: 15 \tTraining Loss: 0.001135\n",
      "Epoch: 16 \tTraining Loss: 0.001124\n",
      "Epoch: 17 \tTraining Loss: 0.001120\n",
      "Epoch: 18 \tTraining Loss: 0.001100\n",
      "Epoch: 19 \tTraining Loss: 0.001092\n",
      "Epoch: 20 \tTraining Loss: 0.001085\n",
      "CPU times: user 24min 7s, sys: 1min 6s, total: 25min 14s\n",
      "Wall time: 25min 6s\n"
     ]
    }
   ],
   "source": [
    "%%time\n",
    "# number of epochs to train the model\n",
    "n_epochs = 20\n",
    "\n",
    "for epoch in range(1, n_epochs+1):\n",
    "    # monitor training loss\n",
    "    train_loss = 0.0\n",
    "    \n",
    "    ###################\n",
    "    # train the model #\n",
    "    ###################\n",
    "    for data in train_loader:\n",
    "        # _ stands in for labels, here\n",
    "        noisy, target = data\n",
    "        noisy = noisy[0]\n",
    "        target = target[0]\n",
    "        \n",
    "        # converting to device array\n",
    "        noisy = noisy.to(device)\n",
    "        target = target.to(device)\n",
    "        \n",
    "        # clear the gradients of all optimized variables\n",
    "        optimizer.zero_grad()\n",
    "        \n",
    "        # forward pass: compute predicted outputs by passing inputs to the model\n",
    "        outputs = model(noisy)\n",
    "        \n",
    "        # calculate the loss\n",
    "        loss = criterion(outputs, target)\n",
    "        \n",
    "        # backward pass: compute gradient of the loss with respect to model parameters\n",
    "        loss.backward()\n",
    "        \n",
    "        # perform a single optimization step (parameter update)\n",
    "        optimizer.step()\n",
    "        \n",
    "        # update running training loss\n",
    "        train_loss += loss.item()*noisy.size(0)\n",
    "            \n",
    "    # print avg training statistics \n",
    "    train_loss = train_loss/len(train_loader)\n",
    "    print('Epoch: {} \\tTraining Loss: {:.6f}'.format(epoch, train_loss))\n",
    "    \n",
    "    if n_epochs > 14:\n",
    "        torch.save(model.state_dict(), f'train-set/model-{epoch}-06.09.2022-14.21.pth')"
   ]
  },
  {
   "cell_type": "code",
   "execution_count": 12,
   "metadata": {},
   "outputs": [],
   "source": [
    "diter = iter(train_loader)\n",
    "diter = iter(test_loader)"
   ]
  },
  {
   "cell_type": "code",
   "execution_count": 25,
   "metadata": {},
   "outputs": [
    {
     "name": "stderr",
     "output_type": "stream",
     "text": [
      "mv: cannot stat 'train-set/model-0-06.09.2022-14.21.pth': No such file or directory\n"
     ]
    }
   ],
   "source": [
    "for i in range(n_epochs):\n",
    "    os.system(f'mv train-set/model-{i}-06.09.2022-14.21.pth train-set/model-{i}-{fsuffix}.pth')"
   ]
  },
  {
   "cell_type": "code",
   "execution_count": 13,
   "metadata": {},
   "outputs": [
    {
     "data": {
      "image/png": "[encoded data removed]",
      "text/plain": [
       "<Figure size 576x360 with 1 Axes>"
      ]
     },
     "metadata": {
      "needs_background": "light"
     },
     "output_type": "display_data"
    }
   ],
   "source": [
    "for i in range(20):\n",
    "    a, b = diter.next()\n",
    "nnop = model(a[0][10].to(device))\n",
    "\n",
    "freq = np.linspace(1400, 1450, 500)\n",
    "plt.figure(figsize=(8, 5))\n",
    "plt.plot(freq, a[0][10], 'b', alpha=0.3, label='data')\n",
    "plt.plot(freq, nnop.cpu().detach(), 'r', label='Prediction')\n",
    "plt.plot(freq, b[0][10], 'k', label='True')\n",
    "plt.xlabel('Frequency in $\\mu$Hz')\n",
    "plt.legend()\n",
    "plt.show()\n",
    "\n"
   ]
  },
  {
   "cell_type": "code",
   "execution_count": 23,
   "metadata": {},
   "outputs": [],
   "source": [
    "import os\n",
    "os.system('ls train-set/metadata*.pkl > pkl_name')\n",
    "with open('pkl_name', 'r') as f:\n",
    "    metadata_file = f.read().splitlines()\n",
    "fsuffix = metadata_file[0].split('/')[-1][9:-4]\n",
    "os.system('rm pkl_name')\n",
    "\n",
    "torch.save(model.state_dict(), f'train-set/model-{fsuffix}.pth')\n",
    "\n",
    "# saved model can be loaded using\n",
    "# encoding_dim = 32\n",
    "# model = LinearAutoencoder(encoding_dim)\n",
    "# model.load_state_dict(torch.load(f'train-set/model-{fsuffix}.pth'))"
   ]
  },
  {
   "cell_type": "code",
   "execution_count": 27,
   "metadata": {},
   "outputs": [],
   "source": [
    "models = []\n",
    "for i in range(5):\n",
    "    n_epochs = i+10\n",
    "    _model = LinearAutoencoder(encoding_dim)\n",
    "    _model.load_state_dict(torch.load(f'train-set/model-{n_epochs}-{fsuffix}.pth'))\n",
    "    models.append(_model.to(device))"
   ]
  },
  {
   "cell_type": "code",
   "execution_count": 35,
   "metadata": {},
   "outputs": [
    {
     "data": {
      "image/png": "[encoded data removed]",
      "text/plain": [
       "<Figure size 576x360 with 1 Axes>"
      ]
     },
     "metadata": {
      "needs_background": "light"
     },
     "output_type": "display_data"
    }
   ],
   "source": [
    "for i in range(20):\n",
    "    a, b = diter.next()\n",
    "\n",
    "nnops = []\n",
    "for i in range(5):\n",
    "    nnop = models[i](a[0][10].to(device))\n",
    "    nnops.append(nnop)\n",
    "\n",
    "freq = np.linspace(1400, 1450, 500)\n",
    "plt.figure(figsize=(8, 5))\n",
    "plt.plot(freq, a[0][10], 'b', alpha=0.3, label='data')\n",
    "for i in range(5):\n",
    "    plt.plot(freq, nnops[i].cpu().detach(), 'r', alpha=0.6, label='Prediction')\n",
    "plt.plot(freq, b[0][10], 'k', label='True')\n",
    "plt.xlabel('Frequency in $\\mu$Hz')\n",
    "plt.legend()\n",
    "plt.show()\n"
   ]
  },
  {
   "cell_type": "code",
   "execution_count": null,
   "metadata": {},
   "outputs": [],
   "source": []
  }
 ],
 "metadata": {
  "kernelspec": {
   "display_name": "pytorch",
   "language": "python",
   "name": "pytorch2"
  },
  "language_info": {
   "codemirror_mode": {
    "name": "ipython",
    "version": 3
   },
   "file_extension": ".py",
   "mimetype": "text/x-python",
   "name": "python",
   "nbconvert_exporter": "python",
   "pygments_lexer": "ipython3",
   "version": "3.10.4"
  }
 },
 "nbformat": 4,
 "nbformat_minor": 4
}
